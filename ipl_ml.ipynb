{
 "cells": [
  {
   "cell_type": "code",
   "execution_count": 1,
   "id": "4e9049f1",
   "metadata": {},
   "outputs": [],
   "source": [
    "import pandas as pd\n",
    "import numpy as np\n",
    "import matplotlib.pyplot as plt\n",
    "import warnings \n",
    "warnings.filterwarnings('ignore')\n",
    "\n",
    "pd.set_option('display.max_rows',None)\n",
    "pd.set_option('display.max_columns',None)\n",
    "pd.set_option('display.expand_frame_repr',False)\n",
    "pd.set_option('max_colwidth',1)"
   ]
  },
  {
   "cell_type": "code",
   "execution_count": 2,
   "id": "3a8a1754",
   "metadata": {},
   "outputs": [],
   "source": [
    "from sklearn.model_selection import train_test_split\n",
    "from sklearn.linear_model import LinearRegression\n",
    "from sklearn.metrics import mean_absolute_error"
   ]
  },
  {
   "cell_type": "code",
   "execution_count": 3,
   "id": "5ae02450",
   "metadata": {},
   "outputs": [],
   "source": [
    "df = pd.read_csv(r\"C:\\Users\\ANAIKUTTY\\Documents\\Cricket analysis\\data files\\IPL_ball_by_ball_updated.csv\")"
   ]
  },
  {
   "cell_type": "code",
   "execution_count": 4,
   "id": "4b7fbdfe",
   "metadata": {},
   "outputs": [
    {
     "data": {
      "text/html": [
       "<div>\n",
       "<style scoped>\n",
       "    .dataframe tbody tr th:only-of-type {\n",
       "        vertical-align: middle;\n",
       "    }\n",
       "\n",
       "    .dataframe tbody tr th {\n",
       "        vertical-align: top;\n",
       "    }\n",
       "\n",
       "    .dataframe thead th {\n",
       "        text-align: right;\n",
       "    }\n",
       "</style>\n",
       "<table border=\"1\" class=\"dataframe\">\n",
       "  <thead>\n",
       "    <tr style=\"text-align: right;\">\n",
       "      <th></th>\n",
       "      <th>match_id</th>\n",
       "      <th>season</th>\n",
       "      <th>start_date</th>\n",
       "      <th>venue</th>\n",
       "      <th>innings</th>\n",
       "      <th>ball</th>\n",
       "      <th>batting_team</th>\n",
       "      <th>bowling_team</th>\n",
       "      <th>striker</th>\n",
       "      <th>non_striker</th>\n",
       "      <th>bowler</th>\n",
       "      <th>runs_off_bat</th>\n",
       "      <th>extras</th>\n",
       "      <th>wides</th>\n",
       "      <th>noballs</th>\n",
       "      <th>byes</th>\n",
       "      <th>legbyes</th>\n",
       "      <th>penalty</th>\n",
       "      <th>wicket_type</th>\n",
       "      <th>player_dismissed</th>\n",
       "      <th>other_wicket_type</th>\n",
       "      <th>other_player_dismissed</th>\n",
       "    </tr>\n",
       "  </thead>\n",
       "  <tbody>\n",
       "    <tr>\n",
       "      <th>0</th>\n",
       "      <td>335982</td>\n",
       "      <td>2008</td>\n",
       "      <td>2008-04-18</td>\n",
       "      <td>M Chinnaswamy Stadium</td>\n",
       "      <td>2</td>\n",
       "      <td>6.8</td>\n",
       "      <td>Royal Challengers Bangalore</td>\n",
       "      <td>Kolkata Knight Riders</td>\n",
       "      <td>MV Boucher</td>\n",
       "      <td>CL White</td>\n",
       "      <td>AB Agarkar</td>\n",
       "      <td>4</td>\n",
       "      <td>0</td>\n",
       "      <td>NaN</td>\n",
       "      <td>NaN</td>\n",
       "      <td>NaN</td>\n",
       "      <td>NaN</td>\n",
       "      <td>NaN</td>\n",
       "      <td>NaN</td>\n",
       "      <td>NaN</td>\n",
       "      <td>NaN</td>\n",
       "      <td>NaN</td>\n",
       "    </tr>\n",
       "  </tbody>\n",
       "</table>\n",
       "</div>"
      ],
      "text/plain": [
       "   match_id  season  start_date                  venue  innings  ball                 batting_team           bowling_team     striker non_striker      bowler  runs_off_bat  extras  wides  noballs  byes  legbyes  penalty wicket_type player_dismissed  other_wicket_type  other_player_dismissed\n",
       "0  335982    2008    2008-04-18  M Chinnaswamy Stadium  2        6.8   Royal Challengers Bangalore  Kolkata Knight Riders  MV Boucher  CL White    AB Agarkar  4             0      NaN    NaN      NaN   NaN      NaN       NaN         NaN             NaN                NaN                    "
      ]
     },
     "execution_count": 4,
     "metadata": {},
     "output_type": "execute_result"
    }
   ],
   "source": [
    "df.head(1)"
   ]
  },
  {
   "cell_type": "code",
   "execution_count": 5,
   "id": "fc491610",
   "metadata": {},
   "outputs": [],
   "source": [
    "df['batting_team'] = df['batting_team'].replace({'Delhi Daredevils':'Delhi Capitals','Kings XI Punjab':'Punjab Kings','Rising Pune Supergiant':'Rising Pune Supergiants'})\n",
    "df['bowling_team'] = df['bowling_team'].replace({'Delhi Daredevils':'Delhi Capitals','Kings XI Punjab':'Punjab Kings','Rising Pune Supergiant':'Rising Pune Supergiants'})"
   ]
  },
  {
   "cell_type": "code",
   "execution_count": 6,
   "id": "8c986ddb",
   "metadata": {},
   "outputs": [
    {
     "data": {
      "text/plain": [
       "array(['Royal Challengers Bangalore', 'Kolkata Knight Riders',\n",
       "       'Rajasthan Royals', 'Delhi Capitals', 'Punjab Kings',\n",
       "       'Chennai Super Kings', 'Deccan Chargers', 'Mumbai Indians',\n",
       "       'Kochi Tuskers Kerala', 'Pune Warriors', 'Sunrisers Hyderabad',\n",
       "       'Rising Pune Supergiants', 'Gujarat Lions', 'Gujarat Titans',\n",
       "       'Lucknow Super Giants'], dtype=object)"
      ]
     },
     "execution_count": 6,
     "metadata": {},
     "output_type": "execute_result"
    }
   ],
   "source": [
    "df['batting_team'].unique()"
   ]
  },
  {
   "cell_type": "code",
   "execution_count": 7,
   "id": "3eec49a6",
   "metadata": {},
   "outputs": [],
   "source": [
    "df['tot_runs'] = df['runs_off_bat'] + df['extras']"
   ]
  },
  {
   "cell_type": "code",
   "execution_count": 8,
   "metadata": {},
   "outputs": [],
   "source": [
    "df['is_out'] = np.where(df['player_dismissed'].fillna(0) == 0, 0, 1)"
   ]
  },
  {
   "cell_type": "code",
   "execution_count": 9,
   "metadata": {},
   "outputs": [],
   "source": [
    "df['is_ball'] = np.where((df['wides'].fillna(0)==0)&(df['noballs'].fillna(0)==0), 1,0)"
   ]
  },
  {
   "cell_type": "code",
   "execution_count": 10,
   "id": "ce40d9a0",
   "metadata": {},
   "outputs": [],
   "source": [
    "df = df[['match_id','season','innings', 'batting_team', 'bowling_team','tot_runs','is_out', 'is_ball']]"
   ]
  },
  {
   "cell_type": "code",
   "execution_count": 11,
   "metadata": {},
   "outputs": [
    {
     "data": {
      "text/html": [
       "<div>\n",
       "<style scoped>\n",
       "    .dataframe tbody tr th:only-of-type {\n",
       "        vertical-align: middle;\n",
       "    }\n",
       "\n",
       "    .dataframe tbody tr th {\n",
       "        vertical-align: top;\n",
       "    }\n",
       "\n",
       "    .dataframe thead th {\n",
       "        text-align: right;\n",
       "    }\n",
       "</style>\n",
       "<table border=\"1\" class=\"dataframe\">\n",
       "  <thead>\n",
       "    <tr style=\"text-align: right;\">\n",
       "      <th></th>\n",
       "      <th>match_id</th>\n",
       "      <th>season</th>\n",
       "      <th>innings</th>\n",
       "      <th>batting_team</th>\n",
       "      <th>bowling_team</th>\n",
       "      <th>tot_runs</th>\n",
       "      <th>is_out</th>\n",
       "      <th>is_ball</th>\n",
       "    </tr>\n",
       "  </thead>\n",
       "  <tbody>\n",
       "    <tr>\n",
       "      <th>0</th>\n",
       "      <td>335982</td>\n",
       "      <td>2008</td>\n",
       "      <td>2</td>\n",
       "      <td>Royal Challengers Bangalore</td>\n",
       "      <td>Kolkata Knight Riders</td>\n",
       "      <td>4</td>\n",
       "      <td>0</td>\n",
       "      <td>1</td>\n",
       "    </tr>\n",
       "  </tbody>\n",
       "</table>\n",
       "</div>"
      ],
      "text/plain": [
       "   match_id  season  innings                 batting_team           bowling_team  tot_runs  is_out  is_ball\n",
       "0  335982    2008    2        Royal Challengers Bangalore  Kolkata Knight Riders  4         0       1      "
      ]
     },
     "execution_count": 11,
     "metadata": {},
     "output_type": "execute_result"
    }
   ],
   "source": [
    "df.head(1)"
   ]
  },
  {
   "cell_type": "code",
   "execution_count": 12,
   "id": "fed4bd4e",
   "metadata": {},
   "outputs": [],
   "source": [
    "df['total'] = df.groupby(['match_id','innings'])['tot_runs'].transform('sum')"
   ]
  },
  {
   "cell_type": "code",
   "execution_count": 13,
   "metadata": {},
   "outputs": [],
   "source": [
    "df['total_score'] = df.groupby(['match_id','innings'])['tot_runs'].cumsum()"
   ]
  },
  {
   "cell_type": "code",
   "execution_count": 14,
   "metadata": {},
   "outputs": [],
   "source": [
    "df['wicket'] = df.groupby(['match_id','innings'])['is_out'].transform('sum')"
   ]
  },
  {
   "cell_type": "code",
   "execution_count": 15,
   "id": "51cf2b64",
   "metadata": {},
   "outputs": [
    {
     "data": {
      "text/html": [
       "<div>\n",
       "<style scoped>\n",
       "    .dataframe tbody tr th:only-of-type {\n",
       "        vertical-align: middle;\n",
       "    }\n",
       "\n",
       "    .dataframe tbody tr th {\n",
       "        vertical-align: top;\n",
       "    }\n",
       "\n",
       "    .dataframe thead th {\n",
       "        text-align: right;\n",
       "    }\n",
       "</style>\n",
       "<table border=\"1\" class=\"dataframe\">\n",
       "  <thead>\n",
       "    <tr style=\"text-align: right;\">\n",
       "      <th></th>\n",
       "      <th>match_id</th>\n",
       "      <th>season</th>\n",
       "      <th>innings</th>\n",
       "      <th>batting_team</th>\n",
       "      <th>bowling_team</th>\n",
       "      <th>tot_runs</th>\n",
       "      <th>is_out</th>\n",
       "      <th>is_ball</th>\n",
       "      <th>total</th>\n",
       "      <th>total_score</th>\n",
       "      <th>wicket</th>\n",
       "    </tr>\n",
       "  </thead>\n",
       "  <tbody>\n",
       "    <tr>\n",
       "      <th>0</th>\n",
       "      <td>335982</td>\n",
       "      <td>2008</td>\n",
       "      <td>2</td>\n",
       "      <td>Royal Challengers Bangalore</td>\n",
       "      <td>Kolkata Knight Riders</td>\n",
       "      <td>4</td>\n",
       "      <td>0</td>\n",
       "      <td>1</td>\n",
       "      <td>82</td>\n",
       "      <td>4</td>\n",
       "      <td>10</td>\n",
       "    </tr>\n",
       "    <tr>\n",
       "      <th>1</th>\n",
       "      <td>335982</td>\n",
       "      <td>2008</td>\n",
       "      <td>2</td>\n",
       "      <td>Royal Challengers Bangalore</td>\n",
       "      <td>Kolkata Knight Riders</td>\n",
       "      <td>1</td>\n",
       "      <td>0</td>\n",
       "      <td>1</td>\n",
       "      <td>82</td>\n",
       "      <td>5</td>\n",
       "      <td>10</td>\n",
       "    </tr>\n",
       "    <tr>\n",
       "      <th>2</th>\n",
       "      <td>335982</td>\n",
       "      <td>2008</td>\n",
       "      <td>2</td>\n",
       "      <td>Royal Challengers Bangalore</td>\n",
       "      <td>Kolkata Knight Riders</td>\n",
       "      <td>2</td>\n",
       "      <td>0</td>\n",
       "      <td>1</td>\n",
       "      <td>82</td>\n",
       "      <td>7</td>\n",
       "      <td>10</td>\n",
       "    </tr>\n",
       "    <tr>\n",
       "      <th>3</th>\n",
       "      <td>335982</td>\n",
       "      <td>2008</td>\n",
       "      <td>2</td>\n",
       "      <td>Royal Challengers Bangalore</td>\n",
       "      <td>Kolkata Knight Riders</td>\n",
       "      <td>1</td>\n",
       "      <td>0</td>\n",
       "      <td>1</td>\n",
       "      <td>82</td>\n",
       "      <td>8</td>\n",
       "      <td>10</td>\n",
       "    </tr>\n",
       "    <tr>\n",
       "      <th>4</th>\n",
       "      <td>335982</td>\n",
       "      <td>2008</td>\n",
       "      <td>2</td>\n",
       "      <td>Royal Challengers Bangalore</td>\n",
       "      <td>Kolkata Knight Riders</td>\n",
       "      <td>0</td>\n",
       "      <td>0</td>\n",
       "      <td>1</td>\n",
       "      <td>82</td>\n",
       "      <td>8</td>\n",
       "      <td>10</td>\n",
       "    </tr>\n",
       "  </tbody>\n",
       "</table>\n",
       "</div>"
      ],
      "text/plain": [
       "   match_id  season  innings                 batting_team           bowling_team  tot_runs  is_out  is_ball  total  total_score  wicket\n",
       "0  335982    2008    2        Royal Challengers Bangalore  Kolkata Knight Riders  4         0       1        82     4            10    \n",
       "1  335982    2008    2        Royal Challengers Bangalore  Kolkata Knight Riders  1         0       1        82     5            10    \n",
       "2  335982    2008    2        Royal Challengers Bangalore  Kolkata Knight Riders  2         0       1        82     7            10    \n",
       "3  335982    2008    2        Royal Challengers Bangalore  Kolkata Knight Riders  1         0       1        82     8            10    \n",
       "4  335982    2008    2        Royal Challengers Bangalore  Kolkata Knight Riders  0         0       1        82     8            10    "
      ]
     },
     "execution_count": 15,
     "metadata": {},
     "output_type": "execute_result"
    }
   ],
   "source": [
    "df.head()"
   ]
  },
  {
   "cell_type": "code",
   "execution_count": 16,
   "metadata": {},
   "outputs": [],
   "source": [
    "df['tot_wkt'] = df.groupby(['match_id','innings'])['is_out'].cumsum()"
   ]
  },
  {
   "cell_type": "code",
   "execution_count": 17,
   "id": "141b4f8a",
   "metadata": {},
   "outputs": [],
   "source": [
    "df['over'] = (df.groupby(['match_id','innings'])['is_ball'].cumsum() / 6).round(2)"
   ]
  },
  {
   "cell_type": "code",
   "execution_count": 18,
   "metadata": {},
   "outputs": [],
   "source": [
    "df['is_bound'] = np.where(df['tot_runs'].isin([4,6]),1,0)"
   ]
  },
  {
   "cell_type": "code",
   "execution_count": 19,
   "id": "d7c60be5",
   "metadata": {},
   "outputs": [],
   "source": [
    "df['is_dot'] = np.where(df['tot_runs'].isin([0]),1,0)"
   ]
  },
  {
   "cell_type": "code",
   "execution_count": 20,
   "id": "04722749",
   "metadata": {},
   "outputs": [],
   "source": [
    "df['last_30_dot'] = df.groupby(['match_id','innings'])['is_dot'].transform(lambda x: x.rolling(min_periods = 1,window=30).sum())"
   ]
  },
  {
   "cell_type": "code",
   "execution_count": 21,
   "id": "51c9bef4",
   "metadata": {},
   "outputs": [],
   "source": [
    "#df['tot_bound'] = df.groupby(['match_id','innings'])['is_bound'].cumsum()"
   ]
  },
  {
   "cell_type": "code",
   "execution_count": 22,
   "metadata": {},
   "outputs": [],
   "source": [
    "df['last_30_runs'] = df.groupby(['match_id','innings'])['tot_runs'].transform(lambda x: x.rolling(min_periods = 1,window=30).sum())"
   ]
  },
  {
   "cell_type": "code",
   "execution_count": 23,
   "id": "8e0fa607",
   "metadata": {},
   "outputs": [],
   "source": [
    "df['last_30_wkt'] = df.groupby(['match_id','innings'])['is_out'].transform(lambda x: x.rolling(min_periods = 1,window=30).sum())"
   ]
  },
  {
   "cell_type": "code",
   "execution_count": 24,
   "id": "cde775c6",
   "metadata": {},
   "outputs": [],
   "source": [
    "df['last_30_bound'] =df.groupby(['match_id','innings'])['is_bound'].transform(lambda x: x.rolling(min_periods = 1,window=30).sum())"
   ]
  },
  {
   "cell_type": "code",
   "execution_count": 25,
   "id": "de84c333",
   "metadata": {},
   "outputs": [],
   "source": [
    "df['tgt'] = np.where(df['innings']==1,0,df.groupby(['match_id','innings'])['tot_runs'].transform('sum'))"
   ]
  },
  {
   "cell_type": "code",
   "execution_count": 26,
   "id": "38f10d55",
   "metadata": {},
   "outputs": [],
   "source": [
    "df['tgt'] = np.where(df['innings']==1,0,df['tgt']+1)"
   ]
  },
  {
   "cell_type": "code",
   "execution_count": 27,
   "id": "1dce793e",
   "metadata": {},
   "outputs": [
    {
     "data": {
      "text/html": [
       "<div>\n",
       "<style scoped>\n",
       "    .dataframe tbody tr th:only-of-type {\n",
       "        vertical-align: middle;\n",
       "    }\n",
       "\n",
       "    .dataframe tbody tr th {\n",
       "        vertical-align: top;\n",
       "    }\n",
       "\n",
       "    .dataframe thead th {\n",
       "        text-align: right;\n",
       "    }\n",
       "</style>\n",
       "<table border=\"1\" class=\"dataframe\">\n",
       "  <thead>\n",
       "    <tr style=\"text-align: right;\">\n",
       "      <th></th>\n",
       "      <th>match_id</th>\n",
       "      <th>season</th>\n",
       "      <th>innings</th>\n",
       "      <th>batting_team</th>\n",
       "      <th>bowling_team</th>\n",
       "      <th>tot_runs</th>\n",
       "      <th>is_out</th>\n",
       "      <th>is_ball</th>\n",
       "      <th>total</th>\n",
       "      <th>total_score</th>\n",
       "      <th>wicket</th>\n",
       "      <th>tot_wkt</th>\n",
       "      <th>over</th>\n",
       "      <th>is_bound</th>\n",
       "      <th>is_dot</th>\n",
       "      <th>last_30_dot</th>\n",
       "      <th>last_30_runs</th>\n",
       "      <th>last_30_wkt</th>\n",
       "      <th>last_30_bound</th>\n",
       "      <th>tgt</th>\n",
       "    </tr>\n",
       "  </thead>\n",
       "  <tbody>\n",
       "    <tr>\n",
       "      <th>225948</th>\n",
       "      <td>1312200</td>\n",
       "      <td>2022</td>\n",
       "      <td>1</td>\n",
       "      <td>Rajasthan Royals</td>\n",
       "      <td>Gujarat Titans</td>\n",
       "      <td>1</td>\n",
       "      <td>0</td>\n",
       "      <td>1</td>\n",
       "      <td>130</td>\n",
       "      <td>128</td>\n",
       "      <td>9</td>\n",
       "      <td>9</td>\n",
       "      <td>19.50</td>\n",
       "      <td>0</td>\n",
       "      <td>0</td>\n",
       "      <td>15.0</td>\n",
       "      <td>25.0</td>\n",
       "      <td>3.0</td>\n",
       "      <td>3.0</td>\n",
       "      <td>0</td>\n",
       "    </tr>\n",
       "    <tr>\n",
       "      <th>225949</th>\n",
       "      <td>1312200</td>\n",
       "      <td>2022</td>\n",
       "      <td>1</td>\n",
       "      <td>Rajasthan Royals</td>\n",
       "      <td>Gujarat Titans</td>\n",
       "      <td>1</td>\n",
       "      <td>0</td>\n",
       "      <td>1</td>\n",
       "      <td>130</td>\n",
       "      <td>129</td>\n",
       "      <td>9</td>\n",
       "      <td>9</td>\n",
       "      <td>19.67</td>\n",
       "      <td>0</td>\n",
       "      <td>0</td>\n",
       "      <td>14.0</td>\n",
       "      <td>26.0</td>\n",
       "      <td>3.0</td>\n",
       "      <td>3.0</td>\n",
       "      <td>0</td>\n",
       "    </tr>\n",
       "    <tr>\n",
       "      <th>225950</th>\n",
       "      <td>1312200</td>\n",
       "      <td>2022</td>\n",
       "      <td>1</td>\n",
       "      <td>Rajasthan Royals</td>\n",
       "      <td>Gujarat Titans</td>\n",
       "      <td>1</td>\n",
       "      <td>0</td>\n",
       "      <td>1</td>\n",
       "      <td>130</td>\n",
       "      <td>130</td>\n",
       "      <td>9</td>\n",
       "      <td>9</td>\n",
       "      <td>19.83</td>\n",
       "      <td>0</td>\n",
       "      <td>0</td>\n",
       "      <td>13.0</td>\n",
       "      <td>27.0</td>\n",
       "      <td>3.0</td>\n",
       "      <td>3.0</td>\n",
       "      <td>0</td>\n",
       "    </tr>\n",
       "    <tr>\n",
       "      <th>225951</th>\n",
       "      <td>1312200</td>\n",
       "      <td>2022</td>\n",
       "      <td>1</td>\n",
       "      <td>Rajasthan Royals</td>\n",
       "      <td>Gujarat Titans</td>\n",
       "      <td>0</td>\n",
       "      <td>0</td>\n",
       "      <td>1</td>\n",
       "      <td>130</td>\n",
       "      <td>130</td>\n",
       "      <td>9</td>\n",
       "      <td>9</td>\n",
       "      <td>20.00</td>\n",
       "      <td>0</td>\n",
       "      <td>1</td>\n",
       "      <td>13.0</td>\n",
       "      <td>27.0</td>\n",
       "      <td>2.0</td>\n",
       "      <td>3.0</td>\n",
       "      <td>0</td>\n",
       "    </tr>\n",
       "    <tr>\n",
       "      <th>225952</th>\n",
       "      <td>1312200</td>\n",
       "      <td>2022</td>\n",
       "      <td>2</td>\n",
       "      <td>Gujarat Titans</td>\n",
       "      <td>Rajasthan Royals</td>\n",
       "      <td>6</td>\n",
       "      <td>0</td>\n",
       "      <td>1</td>\n",
       "      <td>133</td>\n",
       "      <td>133</td>\n",
       "      <td>3</td>\n",
       "      <td>3</td>\n",
       "      <td>18.17</td>\n",
       "      <td>1</td>\n",
       "      <td>0</td>\n",
       "      <td>6.0</td>\n",
       "      <td>47.0</td>\n",
       "      <td>0.0</td>\n",
       "      <td>4.0</td>\n",
       "      <td>134</td>\n",
       "    </tr>\n",
       "  </tbody>\n",
       "</table>\n",
       "</div>"
      ],
      "text/plain": [
       "        match_id  season  innings      batting_team      bowling_team  tot_runs  is_out  is_ball  total  total_score  wicket  tot_wkt   over  is_bound  is_dot  last_30_dot  last_30_runs  last_30_wkt  last_30_bound  tgt\n",
       "225948  1312200   2022    1        Rajasthan Royals  Gujarat Titans    1         0       1        130    128          9       9        19.50  0         0       15.0         25.0          3.0          3.0            0  \n",
       "225949  1312200   2022    1        Rajasthan Royals  Gujarat Titans    1         0       1        130    129          9       9        19.67  0         0       14.0         26.0          3.0          3.0            0  \n",
       "225950  1312200   2022    1        Rajasthan Royals  Gujarat Titans    1         0       1        130    130          9       9        19.83  0         0       13.0         27.0          3.0          3.0            0  \n",
       "225951  1312200   2022    1        Rajasthan Royals  Gujarat Titans    0         0       1        130    130          9       9        20.00  0         1       13.0         27.0          2.0          3.0            0  \n",
       "225952  1312200   2022    2        Gujarat Titans    Rajasthan Royals  6         0       1        133    133          3       3        18.17  1         0       6.0          47.0          0.0          4.0            134"
      ]
     },
     "execution_count": 27,
     "metadata": {},
     "output_type": "execute_result"
    }
   ],
   "source": [
    "df.tail(5)"
   ]
  },
  {
   "cell_type": "code",
   "execution_count": 28,
   "id": "c8c4b271",
   "metadata": {},
   "outputs": [],
   "source": [
    "df = df.drop(columns=['season'])"
   ]
  },
  {
   "cell_type": "code",
   "execution_count": 29,
   "id": "94bd328e",
   "metadata": {},
   "outputs": [],
   "source": [
    "#df = pd.get_dummies(data=df, columns=['batting_team','bowling_team'])"
   ]
  },
  {
   "cell_type": "code",
   "execution_count": 30,
   "id": "94327b1b",
   "metadata": {},
   "outputs": [
    {
     "data": {
      "text/html": [
       "<div>\n",
       "<style scoped>\n",
       "    .dataframe tbody tr th:only-of-type {\n",
       "        vertical-align: middle;\n",
       "    }\n",
       "\n",
       "    .dataframe tbody tr th {\n",
       "        vertical-align: top;\n",
       "    }\n",
       "\n",
       "    .dataframe thead th {\n",
       "        text-align: right;\n",
       "    }\n",
       "</style>\n",
       "<table border=\"1\" class=\"dataframe\">\n",
       "  <thead>\n",
       "    <tr style=\"text-align: right;\">\n",
       "      <th></th>\n",
       "      <th>match_id</th>\n",
       "      <th>innings</th>\n",
       "      <th>batting_team</th>\n",
       "      <th>bowling_team</th>\n",
       "      <th>tot_runs</th>\n",
       "      <th>is_out</th>\n",
       "      <th>is_ball</th>\n",
       "      <th>total</th>\n",
       "      <th>total_score</th>\n",
       "      <th>wicket</th>\n",
       "      <th>tot_wkt</th>\n",
       "      <th>over</th>\n",
       "      <th>is_bound</th>\n",
       "      <th>is_dot</th>\n",
       "      <th>last_30_dot</th>\n",
       "      <th>last_30_runs</th>\n",
       "      <th>last_30_wkt</th>\n",
       "      <th>last_30_bound</th>\n",
       "      <th>tgt</th>\n",
       "    </tr>\n",
       "  </thead>\n",
       "  <tbody>\n",
       "    <tr>\n",
       "      <th>0</th>\n",
       "      <td>335982</td>\n",
       "      <td>2</td>\n",
       "      <td>Royal Challengers Bangalore</td>\n",
       "      <td>Kolkata Knight Riders</td>\n",
       "      <td>4</td>\n",
       "      <td>0</td>\n",
       "      <td>1</td>\n",
       "      <td>82</td>\n",
       "      <td>4</td>\n",
       "      <td>10</td>\n",
       "      <td>0</td>\n",
       "      <td>0.17</td>\n",
       "      <td>1</td>\n",
       "      <td>0</td>\n",
       "      <td>0.0</td>\n",
       "      <td>4.0</td>\n",
       "      <td>0.0</td>\n",
       "      <td>1.0</td>\n",
       "      <td>83</td>\n",
       "    </tr>\n",
       "  </tbody>\n",
       "</table>\n",
       "</div>"
      ],
      "text/plain": [
       "   match_id  innings                 batting_team           bowling_team  tot_runs  is_out  is_ball  total  total_score  wicket  tot_wkt  over  is_bound  is_dot  last_30_dot  last_30_runs  last_30_wkt  last_30_bound  tgt\n",
       "0  335982    2        Royal Challengers Bangalore  Kolkata Knight Riders  4         0       1        82     4            10      0        0.17  1         0       0.0          4.0           0.0          1.0            83 "
      ]
     },
     "execution_count": 30,
     "metadata": {},
     "output_type": "execute_result"
    }
   ],
   "source": [
    "df.head(1)"
   ]
  },
  {
   "cell_type": "code",
   "execution_count": 31,
   "id": "def87f99",
   "metadata": {},
   "outputs": [],
   "source": [
    "#len(df.columns)"
   ]
  },
  {
   "cell_type": "code",
   "execution_count": 32,
   "id": "13d9cf6c",
   "metadata": {},
   "outputs": [
    {
     "data": {
      "text/plain": [
       "\"\\ndf = df[['batting_team_Chennai Super Kings', 'batting_team_Deccan Chargers',\\n       'batting_team_Delhi Capitals', 'batting_team_Gujarat Lions',\\n       'batting_team_Gujarat Titans', 'batting_team_Kochi Tuskers Kerala',\\n       'batting_team_Kolkata Knight Riders',\\n       'batting_team_Lucknow Super Giants', 'batting_team_Mumbai Indians',\\n       'batting_team_Pune Warriors', 'batting_team_Punjab Kings',\\n       'batting_team_Rajasthan Royals', 'batting_team_Rising Pune Supergiants',\\n       'batting_team_Royal Challengers Bangalore',\\n       'batting_team_Sunrisers Hyderabad', 'bowling_team_Chennai Super Kings',\\n       'bowling_team_Deccan Chargers', 'bowling_team_Delhi Capitals', 'bowling_team_Gujarat Lions',\\n       'bowling_team_Gujarat Titans',\\n       'bowling_team_Kochi Tuskers Kerala',\\n       'bowling_team_Kolkata Knight Riders',\\n       'bowling_team_Lucknow Super Giants', 'bowling_team_Mumbai Indians',\\n       'bowling_team_Pune Warriors', 'bowling_team_Punjab Kings',\\n       'bowling_team_Rajasthan Royals', \\n       'bowling_team_Rising Pune Supergiants',\\n       'bowling_team_Royal Challengers Bangalore',\\n       'bowling_team_Sunrisers Hyderabad','over','total_score','tot_wkt','last_30_runs','last_30_wkt','last_30_dot','last_30_bound','total']]\\n       \""
      ]
     },
     "execution_count": 32,
     "metadata": {},
     "output_type": "execute_result"
    }
   ],
   "source": [
    "'''\n",
    "df = df[['batting_team_Chennai Super Kings', 'batting_team_Deccan Chargers',\n",
    "       'batting_team_Delhi Capitals', 'batting_team_Gujarat Lions',\n",
    "       'batting_team_Gujarat Titans', 'batting_team_Kochi Tuskers Kerala',\n",
    "       'batting_team_Kolkata Knight Riders',\n",
    "       'batting_team_Lucknow Super Giants', 'batting_team_Mumbai Indians',\n",
    "       'batting_team_Pune Warriors', 'batting_team_Punjab Kings',\n",
    "       'batting_team_Rajasthan Royals', 'batting_team_Rising Pune Supergiants',\n",
    "       'batting_team_Royal Challengers Bangalore',\n",
    "       'batting_team_Sunrisers Hyderabad', 'bowling_team_Chennai Super Kings',\n",
    "       'bowling_team_Deccan Chargers', 'bowling_team_Delhi Capitals', 'bowling_team_Gujarat Lions',\n",
    "       'bowling_team_Gujarat Titans',\n",
    "       'bowling_team_Kochi Tuskers Kerala',\n",
    "       'bowling_team_Kolkata Knight Riders',\n",
    "       'bowling_team_Lucknow Super Giants', 'bowling_team_Mumbai Indians',\n",
    "       'bowling_team_Pune Warriors', 'bowling_team_Punjab Kings',\n",
    "       'bowling_team_Rajasthan Royals', \n",
    "       'bowling_team_Rising Pune Supergiants',\n",
    "       'bowling_team_Royal Challengers Bangalore',\n",
    "       'bowling_team_Sunrisers Hyderabad','over','total_score','tot_wkt','last_30_runs','last_30_wkt','last_30_dot','last_30_bound','total']]\n",
    "       '''\n"
   ]
  },
  {
   "cell_type": "code",
   "execution_count": 33,
   "id": "8fba27bc",
   "metadata": {},
   "outputs": [],
   "source": [
    "#len(df.columns)"
   ]
  },
  {
   "cell_type": "code",
   "execution_count": 34,
   "id": "c5c784d0",
   "metadata": {},
   "outputs": [
    {
     "data": {
      "text/plain": [
       "\"\\nx = df.drop(columns=['total'])\\ny = df['total'].values\\n\""
      ]
     },
     "execution_count": 34,
     "metadata": {},
     "output_type": "execute_result"
    }
   ],
   "source": [
    "'''\n",
    "x = df.drop(columns=['total'])\n",
    "y = df['total'].values\n",
    "'''"
   ]
  },
  {
   "cell_type": "code",
   "execution_count": 35,
   "id": "3501917d",
   "metadata": {},
   "outputs": [],
   "source": [
    "#len(x.columns)"
   ]
  },
  {
   "cell_type": "code",
   "execution_count": 36,
   "id": "3b585227",
   "metadata": {},
   "outputs": [],
   "source": [
    "#for i in range(len(x.columns)):\n",
    "   # print(i,[x.columns][i])"
   ]
  },
  {
   "cell_type": "code",
   "execution_count": 37,
   "id": "a58de84e",
   "metadata": {},
   "outputs": [
    {
     "data": {
      "text/plain": [
       "'\\nX_train,X_test, y_train,y_test = train_test_split(x,y,test_size=0.25)\\n'"
      ]
     },
     "execution_count": 37,
     "metadata": {},
     "output_type": "execute_result"
    }
   ],
   "source": [
    "'''\n",
    "X_train,X_test, y_train,y_test = train_test_split(x,y,test_size=0.25)\n",
    "'''"
   ]
  },
  {
   "cell_type": "code",
   "execution_count": 38,
   "id": "b80746de",
   "metadata": {},
   "outputs": [],
   "source": [
    "#model = LinearRegression()"
   ]
  },
  {
   "cell_type": "code",
   "execution_count": 39,
   "id": "eb38dde4",
   "metadata": {},
   "outputs": [],
   "source": [
    "#model.fit(X_train,y_train)"
   ]
  },
  {
   "cell_type": "code",
   "execution_count": 40,
   "id": "257a7d24",
   "metadata": {},
   "outputs": [],
   "source": [
    "#y_pred = model.predict(X_test)\n",
    "#mean_absolute_error(y_test,y_pred)"
   ]
  },
  {
   "cell_type": "code",
   "execution_count": 41,
   "id": "566f873a",
   "metadata": {},
   "outputs": [],
   "source": [
    "#df['batting_team'].unique()"
   ]
  },
  {
   "cell_type": "code",
   "execution_count": 42,
   "id": "275dead3",
   "metadata": {},
   "outputs": [],
   "source": [
    "def score_prediction(df,Bat_team, Bowl_team,innings, overs,total_score,tot_wkt,last_30_runs,last_30_dot,last_30_wkt,last_30_bound,tgt):\n",
    "\n",
    "    df = pd.get_dummies(data=df, columns=['batting_team','bowling_team'])\n",
    "\n",
    "    df = df.drop(columns=['is_out','is_ball','is_bound','is_dot','match_id'])\n",
    "\n",
    "    df = df[['batting_team_Chennai Super Kings', 'batting_team_Deccan Chargers',\n",
    "        'batting_team_Delhi Capitals', 'batting_team_Gujarat Lions',\n",
    "        'batting_team_Gujarat Titans', 'batting_team_Kochi Tuskers Kerala',\n",
    "        'batting_team_Kolkata Knight Riders',\n",
    "        'batting_team_Lucknow Super Giants', 'batting_team_Mumbai Indians',\n",
    "        'batting_team_Pune Warriors', 'batting_team_Punjab Kings',\n",
    "        'batting_team_Rajasthan Royals', 'batting_team_Rising Pune Supergiants',\n",
    "        'batting_team_Royal Challengers Bangalore',\n",
    "        'batting_team_Sunrisers Hyderabad', 'bowling_team_Chennai Super Kings',\n",
    "        'bowling_team_Deccan Chargers', 'bowling_team_Delhi Capitals', 'bowling_team_Gujarat Lions',\n",
    "        'bowling_team_Gujarat Titans',\n",
    "        'bowling_team_Kochi Tuskers Kerala',\n",
    "        'bowling_team_Kolkata Knight Riders',\n",
    "        'bowling_team_Lucknow Super Giants', 'bowling_team_Mumbai Indians',\n",
    "        'bowling_team_Pune Warriors', 'bowling_team_Punjab Kings',\n",
    "        'bowling_team_Rajasthan Royals', \n",
    "        'bowling_team_Rising Pune Supergiants',\n",
    "        'bowling_team_Royal Challengers Bangalore',\n",
    "        'bowling_team_Sunrisers Hyderabad','innings','over','total_score','tot_wkt','last_30_runs','last_30_wkt','last_30_dot','last_30_bound','total','tgt']]\n",
    "\n",
    "    x = df.drop(columns=['total'])\n",
    "    y = df['total'].values\n",
    "\n",
    "\n",
    "\n",
    "    X_train,X_test, y_train,y_test = train_test_split(x,y,test_size=0.25)\n",
    "    model = LinearRegression()\n",
    "    model.fit(X_train,y_train)\n",
    "\n",
    "    y_pred = model.predict(X_test)\n",
    "    mean_absolute_error(y_test,y_pred)\n",
    "\n",
    "    temp = []\n",
    "\n",
    "    if Bat_team == 'Chennai Super Kings':\n",
    "        temp += [1,0,0,0,0,0,0,0,0,0,0,0,0,0,0]\n",
    "    elif Bat_team == 'Deccan Chargers':\n",
    "        temp += [0,1,0,0,0,0,0,0,0,0,0,0,0,0,0]\n",
    "    elif Bat_team == 'Delhi Capitals':\n",
    "        temp += [0,0,1,0,0,0,0,0,0,0,0,0,0,0,0]\n",
    "    elif Bat_team == 'Gujarat Lions':\n",
    "        temp += [0,0,0,1,0,0,0,0,0,0,0,0,0,0,0]\n",
    "    elif Bat_team == 'Gujarat Titans':\n",
    "        temp += [0,0,0,0,1,0,0,0,0,0,0,0,0,0,0]\n",
    "    elif Bat_team == 'Kochi Tuskers Kerala':\n",
    "        temp += [0,0,0,0,0,1,0,0,0,0,0,0,0,0,0]\n",
    "    elif Bat_team == 'Kolkata Knight Riders':\n",
    "        temp += [0,0,0,0,0,0,1,0,0,0,0,0,0,0,0]\n",
    "    elif Bat_team == 'Lucknow Super Giants':\n",
    "        temp += [0,0,0,0,0,0,0,1,0,0,0,0,0,0,0]\n",
    "    elif Bat_team == 'Mumbai Indians':\n",
    "        temp += [0,0,0,0,0,0,0,0,1,0,0,0,0,0,0] \n",
    "    elif Bat_team == 'Pune Warriors':\n",
    "        temp += [0,0,0,0,0,0,0,0,0,1,0,0,0,0,0]\n",
    "    elif Bat_team == 'Punjab Kings':\n",
    "        temp += [0,0,0,0,0,0,0,0,0,0,1,0,0,0,0]\n",
    "    elif Bat_team == 'Rajasthan Royals':\n",
    "        temp += [0,0,0,0,0,0,0,0,0,0,0,1,0,0,0]\n",
    "    elif Bat_team == 'Rising Pune Supergiants':\n",
    "        temp += [0,0,0,0,0,0,0,0,0,0,0,0,1,0,0]\n",
    "    elif Bat_team == 'Royal Challengers Bangalore':\n",
    "        temp += [0,0,0,0,0,0,0,0,0,0,0,0,0,1,0]\n",
    "    elif Bat_team == 'Sunrisers Hyderabad':\n",
    "        temp += [0,0,0,0,0,0,0,0,0,0,0,0,0,0,1]\n",
    "\n",
    "    \n",
    "    if Bowl_team == 'Chennai Super Kings':\n",
    "        temp += [1,0,0,0,0,0,0,0,0,0,0,0,0,0,0]\n",
    "    elif Bowl_team == 'Deccan Chargers':\n",
    "        temp += [0,1,0,0,0,0,0,0,0,0,0,0,0,0,0]\n",
    "    elif Bowl_team == 'Delhi Capitals':\n",
    "        temp += [0,0,1,0,0,0,0,0,0,0,0,0,0,0,0]\n",
    "    elif Bowl_team == 'Gujarat Lions':\n",
    "        temp += [0,0,0,1,0,0,0,0,0,0,0,0,0,0,0]\n",
    "    elif Bowl_team == 'Gujarat Titans':\n",
    "        temp += [0,0,0,0,1,0,0,0,0,0,0,0,0,0,0]\n",
    "    elif Bowl_team == 'Kochi Tuskers Kerala':\n",
    "        temp += [0,0,0,0,0,1,0,0,0,0,0,0,0,0,0]\n",
    "    elif Bowl_team == 'Kolkata Knight Riders':\n",
    "        temp += [0,0,0,0,0,0,1,0,0,0,0,0,0,0,0]\n",
    "    elif Bowl_team == 'Lucknow Super Giants':\n",
    "        temp += [0,0,0,0,0,0,0,1,0,0,0,0,0,0,0]\n",
    "    elif Bowl_team == 'Mumbai Indians':\n",
    "        temp += [0,0,0,0,0,0,0,0,1,0,0,0,0,0,0] \n",
    "    elif Bowl_team == 'Pune Warriors':\n",
    "        temp += [0,0,0,0,0,0,0,0,0,1,0,0,0,0,0]\n",
    "    elif Bowl_team == 'Punjab Kings':\n",
    "        temp += [0,0,0,0,0,0,0,0,0,0,1,0,0,0,0]\n",
    "    elif Bowl_team == 'Rajasthan Royals':\n",
    "        temp += [0,0,0,0,0,0,0,0,0,0,0,1,0,0,0]\n",
    "    elif Bowl_team == 'Rising Pune Supergiants':\n",
    "        temp += [0,0,0,0,0,0,0,0,0,0,0,0,1,0,0]\n",
    "    elif Bowl_team == 'Royal Challengers Bangalore':\n",
    "        temp += [0,0,0,0,0,0,0,0,0,0,0,0,0,1,0]\n",
    "    elif Bowl_team == 'Sunrisers Hyderabad':\n",
    "        temp += [0,0,0,0,0,0,0,0,0,0,0,0,0,0,1]\n",
    "\n",
    "    temp += [innings,overs , total_score , tot_wkt, last_30_runs, last_30_wkt, last_30_dot,last_30_bound,tgt]\n",
    "\n",
    "    print(int(model.predict([temp])))\n",
    "    print('Score Range',int(model.predict([temp]))-18,' to ',int(model.predict([temp]))+18)\n",
    "\n"
   ]
  },
  {
   "cell_type": "code",
   "execution_count": 43,
   "id": "2ec15846",
   "metadata": {},
   "outputs": [
    {
     "name": "stdout",
     "output_type": "stream",
     "text": [
      "230\n",
      "Score Range 212  to  248\n"
     ]
    }
   ],
   "source": [
    "Bat_team = 'Sunrisers Hyderabad'\n",
    "Bowl_team= 'Gujarat Titans'\n",
    "innings = 1\n",
    "overs = 5\n",
    "total_score = 38\n",
    "tot_wkt = 2\n",
    "last_30_runs = 38\n",
    "last_30_dot = 15\n",
    "last_30_wkt = 2\n",
    "last_30_bound = 8\n",
    "tgt = 120\n",
    "\n",
    "#Machine Learning With additional two features Innings,Target\n",
    "\n",
    "score_prediction(df,Bat_team, Bowl_team, innings,overs, total_score, tot_wkt, last_30_runs, last_30_dot, last_30_wkt, last_30_bound,tgt)"
   ]
  },
  {
   "cell_type": "code",
   "execution_count": 44,
   "id": "84018091",
   "metadata": {},
   "outputs": [],
   "source": [
    "def wkt_prediction(df,Bat_team, Bowl_team,innings, overs,total_score,tot_wkt,last_30_runs,last_30_dot,last_30_wkt,last_30_bound,tgt):\n",
    "\n",
    "\n",
    "    df = pd.get_dummies(data=df, columns=['batting_team','bowling_team'])\n",
    "\n",
    "    df = df.drop(columns=['is_out','is_ball','is_bound','is_dot','match_id'])\n",
    "\n",
    "    df = df[['batting_team_Chennai Super Kings', 'batting_team_Deccan Chargers',\n",
    "        'batting_team_Delhi Capitals', 'batting_team_Gujarat Lions',\n",
    "        'batting_team_Gujarat Titans', 'batting_team_Kochi Tuskers Kerala',\n",
    "        'batting_team_Kolkata Knight Riders',\n",
    "        'batting_team_Lucknow Super Giants', 'batting_team_Mumbai Indians',\n",
    "        'batting_team_Pune Warriors', 'batting_team_Punjab Kings',\n",
    "        'batting_team_Rajasthan Royals', 'batting_team_Rising Pune Supergiants',\n",
    "        'batting_team_Royal Challengers Bangalore',\n",
    "        'batting_team_Sunrisers Hyderabad', 'bowling_team_Chennai Super Kings',\n",
    "        'bowling_team_Deccan Chargers', 'bowling_team_Delhi Capitals', 'bowling_team_Gujarat Lions',\n",
    "        'bowling_team_Gujarat Titans',\n",
    "        'bowling_team_Kochi Tuskers Kerala',\n",
    "        'bowling_team_Kolkata Knight Riders',\n",
    "        'bowling_team_Lucknow Super Giants', 'bowling_team_Mumbai Indians',\n",
    "        'bowling_team_Pune Warriors', 'bowling_team_Punjab Kings',\n",
    "        'bowling_team_Rajasthan Royals', \n",
    "        'bowling_team_Rising Pune Supergiants',\n",
    "        'bowling_team_Royal Challengers Bangalore',\n",
    "        'bowling_team_Sunrisers Hyderabad','innings','over','total_score','tot_wkt','last_30_runs','last_30_wkt','last_30_dot','last_30_bound','wicket','tgt']]\n",
    "\n",
    "    x = df.drop(columns=['wicket'])\n",
    "    y = df['wicket'].values\n",
    "\n",
    "\n",
    "\n",
    "    X_train,X_test, y_train,y_test = train_test_split(x,y,test_size=0.25)\n",
    "    model = LinearRegression()\n",
    "    model.fit(X_train,y_train)\n",
    "\n",
    "    y_pred = model.predict(X_test)\n",
    "    mean_absolute_error(y_test,y_pred)\n",
    "        \n",
    "    temp = []\n",
    "\n",
    "    if Bat_team == 'Chennai Super Kings':\n",
    "        temp += [1,0,0,0,0,0,0,0,0,0,0,0,0,0,0]\n",
    "    elif Bat_team == 'Deccan Chargers':\n",
    "        temp += [0,1,0,0,0,0,0,0,0,0,0,0,0,0,0]\n",
    "    elif Bat_team == 'Delhi Capitals':\n",
    "        temp += [0,0,1,0,0,0,0,0,0,0,0,0,0,0,0]\n",
    "    elif Bat_team == 'Gujarat Lions':\n",
    "        temp += [0,0,0,1,0,0,0,0,0,0,0,0,0,0,0]\n",
    "    elif Bat_team == 'Gujarat Titans':\n",
    "        temp += [0,0,0,0,1,0,0,0,0,0,0,0,0,0,0]\n",
    "    elif Bat_team == 'Kochi Tuskers Kerala':\n",
    "        temp += [0,0,0,0,0,1,0,0,0,0,0,0,0,0,0]\n",
    "    elif Bat_team == 'Kolkata Knight Riders':\n",
    "        temp += [0,0,0,0,0,0,1,0,0,0,0,0,0,0,0]\n",
    "    elif Bat_team == 'Lucknow Super Giants':\n",
    "        temp += [0,0,0,0,0,0,0,1,0,0,0,0,0,0,0]\n",
    "    elif Bat_team == 'Mumbai Indians':\n",
    "        temp += [0,0,0,0,0,0,0,0,1,0,0,0,0,0,0] \n",
    "    elif Bat_team == 'Pune Warriors':\n",
    "        temp += [0,0,0,0,0,0,0,0,0,1,0,0,0,0,0]\n",
    "    elif Bat_team == 'Punjab Kings':\n",
    "        temp += [0,0,0,0,0,0,0,0,0,0,1,0,0,0,0]\n",
    "    elif Bat_team == 'Rajasthan Royals':\n",
    "        temp += [0,0,0,0,0,0,0,0,0,0,0,1,0,0,0]\n",
    "    elif Bat_team == 'Rising Pune Supergiants':\n",
    "        temp += [0,0,0,0,0,0,0,0,0,0,0,0,1,0,0]\n",
    "    elif Bat_team == 'Royal Challengers Bangalore':\n",
    "        temp += [0,0,0,0,0,0,0,0,0,0,0,0,0,1,0]\n",
    "    elif Bat_team == 'Sunrisers Hyderabad':\n",
    "        temp += [0,0,0,0,0,0,0,0,0,0,0,0,0,0,1]\n",
    "\n",
    "    \n",
    "    if Bowl_team == 'Chennai Super Kings':\n",
    "        temp += [1,0,0,0,0,0,0,0,0,0,0,0,0,0,0]\n",
    "    elif Bowl_team == 'Deccan Chargers':\n",
    "        temp += [0,1,0,0,0,0,0,0,0,0,0,0,0,0,0]\n",
    "    elif Bowl_team == 'Delhi Capitals':\n",
    "        temp += [0,0,1,0,0,0,0,0,0,0,0,0,0,0,0]\n",
    "    elif Bowl_team == 'Gujarat Lions':\n",
    "        temp += [0,0,0,1,0,0,0,0,0,0,0,0,0,0,0]\n",
    "    elif Bowl_team == 'Gujarat Titans':\n",
    "        temp += [0,0,0,0,1,0,0,0,0,0,0,0,0,0,0]\n",
    "    elif Bowl_team == 'Kochi Tuskers Kerala':\n",
    "        temp += [0,0,0,0,0,1,0,0,0,0,0,0,0,0,0]\n",
    "    elif Bowl_team == 'Kolkata Knight Riders':\n",
    "        temp += [0,0,0,0,0,0,1,0,0,0,0,0,0,0,0]\n",
    "    elif Bowl_team == 'Lucknow Super Giants':\n",
    "        temp += [0,0,0,0,0,0,0,1,0,0,0,0,0,0,0]\n",
    "    elif Bowl_team == 'Mumbai Indians':\n",
    "        temp += [0,0,0,0,0,0,0,0,1,0,0,0,0,0,0] \n",
    "    elif Bowl_team == 'Pune Warriors':\n",
    "        temp += [0,0,0,0,0,0,0,0,0,1,0,0,0,0,0]\n",
    "    elif Bowl_team == 'Punjab Kings':\n",
    "        temp += [0,0,0,0,0,0,0,0,0,0,1,0,0,0,0]\n",
    "    elif Bowl_team == 'Rajasthan Royals':\n",
    "        temp += [0,0,0,0,0,0,0,0,0,0,0,1,0,0,0]\n",
    "    elif Bowl_team == 'Rising Pune Supergiants':\n",
    "        temp += [0,0,0,0,0,0,0,0,0,0,0,0,1,0,0]\n",
    "    elif Bowl_team == 'Royal Challengers Bangalore':\n",
    "        temp += [0,0,0,0,0,0,0,0,0,0,0,0,0,1,0]\n",
    "    elif Bowl_team == 'Sunrisers Hyderabad':\n",
    "        temp += [0,0,0,0,0,0,0,0,0,0,0,0,0,0,1]\n",
    "\n",
    "    temp += [innings,overs , total_score , tot_wkt, last_30_runs, last_30_wkt, last_30_dot,last_30_bound,tgt]\n",
    "\n",
    "    print(int(model.predict([temp])))\n",
    "    #print('Score Range',int(model.predict([temp]))-18,' to ',int(model.predict([temp]))+18)\n",
    "\n"
   ]
  },
  {
   "cell_type": "code",
   "execution_count": null,
   "id": "aed9d5ba",
   "metadata": {},
   "outputs": [
    {
     "name": "stdout",
     "output_type": "stream",
     "text": [
      "6\n"
     ]
    }
   ],
   "source": [
    "Bat_team = 'Sunrisers Hyderabad'\n",
    "Bowl_team= 'Chennai Super Kings'\n",
    "innings = 2\n",
    "tgt = 155\n",
    "overs = 6\n",
    "total_score = 37\n",
    "tot_wkt = 2\n",
    "last_30_runs = 31\n",
    "last_30_dot = 17\n",
    "last_30_wkt = 1\n",
    "last_30_bound = 6\n",
    "\n",
    "wkt_prediction(df,Bat_team, Bowl_team,innings, overs, total_score, tot_wkt, last_30_runs, last_30_dot, last_30_wkt, last_30_bound,tgt)\n",
    "\n",
    "#Csk v Srh Ipl2025\n",
    "#Second Innings Wicket Prediction"
   ]
  },
  {
   "cell_type": "code",
   "execution_count": null,
   "id": "40301743",
   "metadata": {},
   "outputs": [
    {
     "name": "stdout",
     "output_type": "stream",
     "text": [
      "142\n",
      "Score Range 124  to  160\n"
     ]
    }
   ],
   "source": [
    "Bat_team = 'Sunrisers Hyderabad'\n",
    "Bowl_team= 'Chennai Super Kings'\n",
    "innings = 2\n",
    "tgt = 155\n",
    "overs = 6\n",
    "total_score = 37\n",
    "tot_wkt = 2\n",
    "last_30_runs = 31\n",
    "last_30_dot = 17\n",
    "last_30_wkt = 1\n",
    "last_30_bound = 6\n",
    "\n",
    "score_prediction(df,Bat_team, Bowl_team,innings, overs, total_score, tot_wkt, last_30_runs, last_30_dot, last_30_wkt, last_30_bound,tgt)\n",
    "\n",
    "#Csk v Srh Ipl2025\n",
    "#Second Innings Score Prediction\n",
    "#25-Apr-2025"
   ]
  },
  {
   "cell_type": "code",
   "execution_count": null,
   "id": "589fbd50",
   "metadata": {},
   "outputs": [],
   "source": []
  }
 ],
 "metadata": {
  "kernelspec": {
   "display_name": "Python 3",
   "language": "python",
   "name": "python3"
  },
  "language_info": {
   "codemirror_mode": {
    "name": "ipython",
    "version": 3
   },
   "file_extension": ".py",
   "mimetype": "text/x-python",
   "name": "python",
   "nbconvert_exporter": "python",
   "pygments_lexer": "ipython3",
   "version": "3.12.8"
  }
 },
 "nbformat": 4,
 "nbformat_minor": 5
}
