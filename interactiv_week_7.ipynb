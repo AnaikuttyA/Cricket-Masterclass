{
 "cells": [
  {
   "cell_type": "code",
   "execution_count": 1,
   "id": "b2e59ff4",
   "metadata": {},
   "outputs": [],
   "source": [
    "import pandas as pd\n",
    "import numpy as np\n",
    "import matplotlib.pyplot as plt\n",
    "import warnings \n",
    "warnings.filterwarnings('ignore')\n",
    "\n",
    "pd.set_option('display.max_rows',None)\n",
    "pd.set_option('display.max_columns',None)\n",
    "pd.set_option('display.expand_frame_repr',False)\n",
    "pd.set_option('max_colwidth',None)"
   ]
  },
  {
   "cell_type": "code",
   "execution_count": 2,
   "metadata": {},
   "outputs": [],
   "source": [
    "ipl_df = pd.read_csv(r\"C:\\Users\\ANAIKUTTY\\Documents\\Cricket analysis\\data files\\ipl_2008_2024_ball_by_ball_data.csv\")"
   ]
  },
  {
   "cell_type": "code",
   "execution_count": 3,
   "metadata": {},
   "outputs": [],
   "source": [
    "df = ipl_df.copy()"
   ]
  },
  {
   "cell_type": "code",
   "execution_count": 4,
   "metadata": {},
   "outputs": [],
   "source": [
    "df = df[df['innings'].isin([1,2])]"
   ]
  },
  {
   "cell_type": "code",
   "execution_count": 5,
   "metadata": {},
   "outputs": [],
   "source": [
    "df['tot_runs'] = df['runs_off_bat'] + df['extras']\n",
    "df['isout'] = np.where(df['player_dismissed'].isna(),0,1)"
   ]
  },
  {
   "cell_type": "code",
   "execution_count": 6,
   "id": "aff14605",
   "metadata": {},
   "outputs": [],
   "source": [
    "t1 = 'Gujarat Titans'\n",
    "t2 = 'Chennai Super Kings'"
   ]
  },
  {
   "cell_type": "code",
   "execution_count": 8,
   "id": "144208a7",
   "metadata": {},
   "outputs": [],
   "source": [
    "outcomes = [0,1,2,3,4,6,'w']"
   ]
  },
  {
   "cell_type": "code",
   "execution_count": 7,
   "id": "a990c228",
   "metadata": {},
   "outputs": [
    {
     "data": {
      "text/plain": [
       "array([1370353, 1426297])"
      ]
     },
     "execution_count": 7,
     "metadata": {},
     "output_type": "execute_result"
    }
   ],
   "source": [
    "df[(df['batting_team'] == t1)&(df['bowling_team']==t2)&(df['innings']==1)]['match_id'].unique()"
   ]
  },
  {
   "cell_type": "code",
   "execution_count": 9,
   "id": "690840a5",
   "metadata": {},
   "outputs": [],
   "source": [
    "t1_outcome_count = df[df['batting_team']==t1]['tot_runs'].value_counts() #GT Batting\n",
    "t2_outcome_count = df[df['batting_team']==t2]['tot_runs'].value_counts() #CSK Batting"
   ]
  },
  {
   "cell_type": "code",
   "execution_count": 10,
   "id": "b4feb6a6",
   "metadata": {},
   "outputs": [],
   "source": [
    "t1_outs = df[df['batting_team']==t1]['isout'].sum()\n",
    "t2_outs = df[df['batting_team']==t2]['isout'].sum()"
   ]
  },
  {
   "cell_type": "code",
   "execution_count": 11,
   "metadata": {},
   "outputs": [],
   "source": [
    "t1_outcomes = []\n",
    "t2_outcomes = []\n",
    "\n",
    "for i in outcomes:\n",
    "    if i != 'w':\n",
    "        t1_outcomes.append(t1_outcome_count[i])\n",
    "        t2_outcomes.append(t2_outcome_count[i])\n",
    "    else:\n",
    "        t1_outcomes.append(t1_outs)\n",
    "        t2_outcomes.append(t2_outs)"
   ]
  },
  {
   "cell_type": "code",
   "execution_count": 12,
   "metadata": {},
   "outputs": [],
   "source": [
    "t1_prob_outcomes = [i/sum(t1_outcomes) for i in t1_outcomes]\n",
    "t2_prob_outcomes = [i/sum(t2_outcomes) for i in t2_outcomes]"
   ]
  },
  {
   "cell_type": "code",
   "execution_count": 13,
   "metadata": {},
   "outputs": [
    {
     "data": {
      "text/plain": [
       "[np.int64(1662),\n",
       " np.int64(2447),\n",
       " np.int64(387),\n",
       " np.int64(14),\n",
       " np.int64(698),\n",
       " np.int64(270),\n",
       " np.int64(247)]"
      ]
     },
     "execution_count": 13,
     "metadata": {},
     "output_type": "execute_result"
    }
   ],
   "source": [
    "t1_outcomes"
   ]
  },
  {
   "cell_type": "code",
   "execution_count": 14,
   "metadata": {},
   "outputs": [
    {
     "data": {
      "text/plain": [
       "[np.int64(9676),\n",
       " np.int64(12105),\n",
       " np.int64(1955),\n",
       " np.int64(111),\n",
       " np.int64(3240),\n",
       " np.int64(1499),\n",
       " np.int64(1243)]"
      ]
     },
     "execution_count": 14,
     "metadata": {},
     "output_type": "execute_result"
    }
   ],
   "source": [
    "t2_outcomes"
   ]
  },
  {
   "cell_type": "code",
   "execution_count": 15,
   "metadata": {},
   "outputs": [
    {
     "data": {
      "text/plain": [
       "([np.float64(0.2903056768558952),\n",
       "  np.float64(0.4274235807860262),\n",
       "  np.float64(0.06759825327510917),\n",
       "  np.float64(0.002445414847161572),\n",
       "  np.float64(0.12192139737991266),\n",
       "  np.float64(0.04716157205240175),\n",
       "  np.float64(0.04314410480349345)],\n",
       " [np.float64(0.3243823125146669),\n",
       "  np.float64(0.40581313486875187),\n",
       "  np.float64(0.06554024606926145),\n",
       "  np.float64(0.0037212109021422107),\n",
       "  np.float64(0.10861912903550236),\n",
       "  np.float64(0.05025310939019075),\n",
       "  np.float64(0.041670857219484395)])"
      ]
     },
     "execution_count": 15,
     "metadata": {},
     "output_type": "execute_result"
    }
   ],
   "source": [
    "t1_prob_outcomes , t2_prob_outcomes"
   ]
  },
  {
   "cell_type": "code",
   "execution_count": 16,
   "metadata": {},
   "outputs": [],
   "source": [
    "def get_pbvalues(teamName):\n",
    "  \n",
    "    if teamName == 'GT':\n",
    "        p_0 = 0.28941\n",
    "        p_1 = 0.28941 + 0.43028\n",
    "        p_2 = 0.28941 + 0.43028 + 0.06636\n",
    "        p_3 = 0.28941 + 0.43028 + 0.06636 + 0.0\n",
    "        p_4 = 0.28941 + 0.43028 + 0.06636 + 0.0 + 0.12314\n",
    "        p_6 = 0.28941 + 0.43028 + 0.06636 + 0.0 + 0.12314 + 0.04839\n",
    "        p_w = 1\n",
    "    \n",
    "    elif teamName == 'CSK':\n",
    "        p_0 = 0.32710\n",
    "        p_1 = 0.32710 + 0.40425\n",
    "        p_2 = 0.32710 + 0.40425 + 0.06559\n",
    "        p_3 = 0.32710 + 0.40425 + 0.06559 + 0.0\n",
    "        p_4 = 0.32710 + 0.40425 + 0.06559 + 0.0 + 0.10803\n",
    "        p_6 = 0.32710 + 0.40425 + 0.06559 + 0.0 + 0.10803 + 0.04964\n",
    "        p_w = 1\n",
    "\n",
    "    return p_0, p_1, p_2, p_3, p_4, p_6, p_w"
   ]
  },
  {
   "cell_type": "code",
   "execution_count": 17,
   "metadata": {},
   "outputs": [],
   "source": [
    "def predict_runs(target, current_score, current_wickets, current_overs):\n",
    "  \n",
    "    # pb values of both teams\n",
    "    i1p_0, i1p_1, i1p_2, i1p_3, i1p_4, i1p_6, i1p_w = get_pbvalues('GT')\n",
    "    i2p_0, i2p_1, i2p_2, i2p_3, i2p_4, i2p_6, i2p_w = get_pbvalues('CSK')\n",
    "\n",
    "    pred_runs = current_score\n",
    "    pred_wks = current_wickets\n",
    "    leftover_balls = 120 - current_overs*6\n",
    "\n",
    "    for i in range(leftover_balls):\n",
    "        r_value = np.random.random()\n",
    "\n",
    "        if r_value <= i2p_0:\n",
    "            pred_runs += 0\n",
    "        elif r_value <= i2p_1:\n",
    "            pred_runs += 1\n",
    "        elif r_value <= i2p_2:\n",
    "            pred_runs += 2\n",
    "        elif r_value <= i2p_3:\n",
    "            pred_runs += 3\n",
    "        elif r_value <= i2p_4:\n",
    "            pred_runs += 4\n",
    "        elif r_value <= i2p_6:\n",
    "            pred_runs += 6\n",
    "        else:\n",
    "            pred_runs += 0\n",
    "            pred_wks += 1\n",
    "            if pred_wks == 10:\n",
    "                break\n",
    "        if pred_runs > target:\n",
    "            break\n",
    "        # print('pred_runs: ', pred_runs)\n",
    "        # print('pred_wks: ', pred_wks)\n",
    "    \n",
    "    return pred_runs"
   ]
  },
  {
   "cell_type": "code",
   "execution_count": 18,
   "metadata": {},
   "outputs": [
    {
     "data": {
      "text/plain": [
       "172"
      ]
     },
     "execution_count": 18,
     "metadata": {},
     "output_type": "execute_result"
    }
   ],
   "source": [
    "predict_runs(171, 0, 0, 0)"
   ]
  },
  {
   "cell_type": "code",
   "execution_count": 19,
   "metadata": {},
   "outputs": [],
   "source": [
    "def get_win(pred_runs, target):\n",
    "    if pred_runs > target:\n",
    "        return 'win'\n",
    "    elif pred_runs == target:\n",
    "        return 'tie'\n",
    "    else:\n",
    "        return 'lose'"
   ]
  },
  {
   "cell_type": "code",
   "execution_count": 20,
   "id": "7d906937",
   "metadata": {},
   "outputs": [],
   "source": [
    "# runs, wickets, overs, \n",
    "# win - 1st ing score\n",
    "\n",
    "# GT - 214/4 \n",
    "#reduced to 17 overs 171 to chase from 15 overs (DLS method)\n",
    "\n",
    "target = 171\n",
    "\n",
    "current_score = 133\n",
    "current_wickets = 3\n",
    "current_overs = 12\n",
    "\n",
    "iter_count = 100\n",
    "\n",
    "runs_ls = []\n",
    "results_ls = []\n",
    "\n",
    "win_count = 0\n",
    "tie_count = 0\n",
    "lose_count = 0\n",
    "\n",
    "for i in range(iter_count):\n",
    "    pred_runs = predict_runs(target, current_score, current_wickets, current_overs)\n",
    "    runs_ls.append(pred_runs)\n",
    "    result_pred = get_win(pred_runs, target)\n",
    "    results_ls.append(result_pred)\n",
    "\n",
    "    if result_pred == 'win':\n",
    "        win_count += 1\n",
    "    elif result_pred == 'tie':\n",
    "        tie_count += 1\n",
    "    else:\n",
    "        lose_count +=1"
   ]
  },
  {
   "cell_type": "code",
   "execution_count": 21,
   "id": "74bb0a91",
   "metadata": {},
   "outputs": [
    {
     "data": {
      "text/plain": [
       "(98, 0, 2)"
      ]
     },
     "execution_count": 21,
     "metadata": {},
     "output_type": "execute_result"
    }
   ],
   "source": [
    "win_count, tie_count, lose_count"
   ]
  },
  {
   "cell_type": "code",
   "execution_count": 22,
   "id": "46828b56",
   "metadata": {},
   "outputs": [],
   "source": [
    "def find_runs(current_score, target, current_wickets, at_overs):\n",
    "    runs_ls = []\n",
    "    results_ls = []\n",
    "    req_runs = []\n",
    "    win_ls = []\n",
    "\n",
    "    for i in range(current_score, target + 1):\n",
    "        win_count = 0\n",
    "        tie_count = 0\n",
    "        lose_count = 0\n",
    "\n",
    "        for j in range(100):\n",
    "            pred_runs = predict_runs(target, i, current_wickets, at_overs)\n",
    "            runs_ls.append(pred_runs)\n",
    "            result_pred = get_win(pred_runs, target)\n",
    "            results_ls.append(result_pred)\n",
    "\n",
    "            if result_pred == 'win':\n",
    "                win_count += 1\n",
    "            elif result_pred == 'tie':\n",
    "                tie_count += 1\n",
    "            else:\n",
    "                lose_count +=1\n",
    "\n",
    "            win_ls.append(win_count)\n",
    "            req_runs.append(i)\n",
    "            # print('runs: ', i, ' win%: ', win_count)\n",
    "\n",
    "    required_runs = current_score\n",
    "    for i in range(len(req_runs)):\n",
    "        if win_ls[i] >= 50:\n",
    "            required_runs = req_runs[i]\n",
    "            # print('Runs to be: ', req_runs[i])\n",
    "            break\n",
    "\n",
    "    return required_runs"
   ]
  },
  {
   "cell_type": "code",
   "execution_count": 23,
   "id": "aba7eca5",
   "metadata": {},
   "outputs": [
    {
     "data": {
      "text/plain": [
       "133"
      ]
     },
     "execution_count": 23,
     "metadata": {},
     "output_type": "execute_result"
    }
   ],
   "source": [
    "find_runs(133, 171, 3, 12)"
   ]
  },
  {
   "cell_type": "code",
   "execution_count": 24,
   "id": "328a3326",
   "metadata": {},
   "outputs": [],
   "source": [
    "def find_wickets(current_score, target, current_wickets, at_overs):\n",
    "\n",
    "#     find_runs(current_score, target, current_wickets, at_overs)\n",
    "    req_runs = find_runs(current_score, target, current_wickets, at_overs)\n",
    "\n",
    "    runs_ls = []\n",
    "    results_ls = []\n",
    "\n",
    "    req_wks = []\n",
    "    win_ls = []\n",
    "\n",
    "    for i in range(current_wickets, 10):\n",
    "        win_count = 0\n",
    "        tie_count = 0\n",
    "        lose_count = 0\n",
    "\n",
    "        for j in range(100):\n",
    "#             pred_runs = predict_runs(target, req_runs, i, at_overs)\n",
    "            pred_runs = predict_runs(target, current_score, i, at_overs)\n",
    "            runs_ls.append(pred_runs)\n",
    "            result_pred = get_win(pred_runs, target)\n",
    "            results_ls.append(result_pred)\n",
    "\n",
    "            if result_pred == 'win':\n",
    "                win_count += 1\n",
    "            elif result_pred == 'tie':\n",
    "                tie_count += 1\n",
    "            else:\n",
    "                lose_count +=1\n",
    "\n",
    "        win_ls.append(win_count)\n",
    "        req_wks.append(i)\n",
    "     #print('wickets: ', i, ' win%: ', win_count)\n",
    "\n",
    "    req_wicket_value = current_wickets\n",
    "    \n",
    "    for i in range(len(req_wks)):\n",
    "        if (win_ls[i] < 45)  :\n",
    "            req_wicket_value = req_wks[i]\n",
    "            break\n",
    "\n",
    "    return req_wicket_value"
   ]
  },
  {
   "cell_type": "code",
   "execution_count": 26,
   "id": "d4f3f881",
   "metadata": {},
   "outputs": [],
   "source": [
    "%matplotlib inline\n",
    "from ipywidgets import interactive\n",
    "import ipywidgets as widgets\n",
    "import matplotlib.pyplot as plt\n",
    "import numpy as np\n",
    "\n",
    "def find_runs_wickets(current_wks, at_overs, target_score):\n",
    "    plt.figure(figsize = (16, 6))\n",
    "    # x = np.linspace(-10, 10, num=1000)\n",
    "    x = np.array(list(range(21)))\n",
    "    req_value = find_runs(133, target_score, current_wks, at_overs)\n",
    "    req_wk_value = find_wickets(133, target_score, current_wks, at_overs)\n",
    "\n",
    "    if at_overs == 12:\n",
    "        req_value = 133\n",
    "        req_wk_value = 3\n",
    "\n",
    "    \n",
    "    # print(req_value)\n",
    "    y = np.array([req_value for i in range(21)])\n",
    "\n",
    "    # plt.plot(x, current_overs * x + target_score)\n",
    "    # plt.plot(x, y)\n",
    "    plt.scatter(at_overs, req_value, s = 1200, color = 'red')\n",
    "    plt.axhline(target_score, ls = '--', color = 'blue')\n",
    "    plt.text( 1, target_score + 10, 'Target Score :' + str(target_score) , color = 'darkblue', fontsize = 13)\n",
    "    plt.text( at_overs, req_value, str(req_value) + '/' + str(req_wk_value), color = 'white', fontsize = 12,  horizontalalignment='center', verticalalignment='center')\n",
    "    plt.text(at_overs, req_value - 30, 'CSK has to be at ' + str(req_value) + '/' +  str(req_wk_value) + ' after ' + str(at_overs) + ' ov', horizontalalignment='center')\n",
    "    plt.ylim(50, target_score + 50)\n",
    "    plt.xticks(x)\n",
    "    plt.title('Where should CSK be?', fontsize = 20)\n",
    "    plt.xlabel('Overs')\n",
    "    plt.ylabel('Score')\n",
    "    plt.show()\n",
    "\n",
    "# x=widgets.IntSlider(min=-10, max=30, step=1, value=10)\n",
    "\n",
    "# find_wickets(current_score, target, current_wickets, at_overs)\n",
    "# find_wickets(133, 171, 3, 12)"
   ]
  },
  {
   "cell_type": "code",
   "execution_count": null,
   "id": "c97bd517",
   "metadata": {},
   "outputs": [],
   "source": []
  }
 ],
 "metadata": {
  "kernelspec": {
   "display_name": "Python 3",
   "language": "python",
   "name": "python3"
  },
  "language_info": {
   "codemirror_mode": {
    "name": "ipython",
    "version": 3
   },
   "file_extension": ".py",
   "mimetype": "text/x-python",
   "name": "python",
   "nbconvert_exporter": "python",
   "pygments_lexer": "ipython3",
   "version": "3.12.8"
  }
 },
 "nbformat": 4,
 "nbformat_minor": 5
}
